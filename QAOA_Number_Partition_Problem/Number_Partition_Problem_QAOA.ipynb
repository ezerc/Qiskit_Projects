{
 "cells": [
  {
   "cell_type": "markdown",
   "metadata": {},
   "source": [
    "# Number Partition problem with QAOA"
   ]
  },
  {
   "cell_type": "markdown",
   "metadata": {},
   "source": [
    "The number partition problems consists of partitioning a given set $S$ into two subsets $S_{1}$ and $S_{2}$ such that the difference between sums $ \\delta = |\\sum S_{1} - \\sum S_{2}|$ is minimal. This problem can be thought of an optimization task in which $\\delta$ is a variable to be minimized.\n",
    "\n",
    "We approach this problem by making use of the Quantum Approximate Optimization algorithm (QAOA) [1]. To do so, we construct an effective cost function for the number partition problem in terms of a quantum Ising Hamiltonian [2]\n",
    "\n",
    "\\begin{equation}\n",
    "H_{C} = \\Big( \\sum_{i} n_{i} \\sigma^{z}_{i} \\Big)^{2},\n",
    "\\end{equation}\n",
    "\n",
    "where $\\sigma^{z}$ is the $z$ Pauli matrix and $n_{i}$ are the elements of the set $S$ we want to partition. The number of elements $N$ in the set determines the number of spins in the Hamiltonian. The square power in the Hamiltonian ensures that all eigenvalues satisfy $E_{i} \\geq 0$. Naturally, this Hamiltonian partitions the elements $n_{i}$ into two classes, associated with spins pointing up or down. Hence, the task of partitioning the set $S$ such that $\\delta$ is minimized can be reduced to finding the ground state of $H_{C}$. Note that if there exists a perfect partition such that $\\delta = 0$, this is equivalent to a ground state with $E_{\\textrm{gs}} = 0$. \n",
    "\n",
    "We then resort to QAOA to find the ground state of $H_{C}$. In short, this amounts to generating a variational ansatz of the form\n",
    "\n",
    "\\begin{equation}\n",
    "| \\vec{\\gamma},\\vec{\\beta} \\rangle = \\prod_{i}^{p} e^{-i\\beta_{p} H_{B}} e^{-i\\gamma_{p} H_{C}} |+ \\rangle^{ \\otimes N},\n",
    "\\end{equation}\n",
    "\n",
    "where $H_{B} = \\sum_{i} \\sigma_{i}^{x}$, with $\\sigma_{i}^{x}$ the $x$ Pauli matrix, is a mixing Hamiltonian associated with a uniform magnetid field is the $x$ direction and $\\vec{\\gamma} = (\\gamma_{1},\\ldots, \\gamma_{p})$ and $\\vec{\\beta} = (\\beta_{1}, \\ldots, \\beta_{p})$ are a set of $2p$ parameters which need to be classically optimized such that the state $| \\vec{\\gamma},\\vec{\\beta} \\rangle$ minimizes the energy expectation value $F = \\langle \\vec{\\gamma},\\vec{\\beta} |H_{C}| \\vec{\\gamma},\\vec{\\beta} \\rangle$. We refer to $p$ as the number of times we apply the pair of unitaries, denoted layers. The $|+ \\rangle$ state corresponds to the eigenstate of $\\sigma^{x}$, with $\\sigma^{x} |+\\rangle = |+\\rangle$, which in the computational basis is defined as $|+\\rangle  = \\frac{|0\\rangle + |1 \\rangle  }{\\sqrt{2}}$.\n",
    "\n",
    "To optimize $\\vec{\\gamma}$ and $\\vec{\\beta}$, we need a good initial guess to trigger the classical optimization algorithm. This is crucial as otherwise we can get stuck in suboptimal minima. We choose an initial guess for the parameters by performing a grid search in parameter space [3]. The search is performed layer by layer and at each layer we keep the parameters that yield the smallest energy and fix them to scan the next layer. One is encouraged to choose a larger amount of grid points in the $\\gamma$ direction as $H_{C}$ is likely to generate many more different energy scales as we increase the system size, thus making $F$ to be more rapidly varying in this direction.\n",
    "\n",
    "In the following, we use our code to solve the number partition problem using QAOA. We first provide a fleshed out test, then discuss the effects of increasing the number of layers and varying the other parameters. We conclude with some remarks regarding improving the performance of the code. Before proceeding, let us make a few remarks about convention in our code:\n",
    "\n",
    "- The Ising Hamiltonian is recasted as $H_{C} = \\sum_{i \\leq j} J_{ij} \\sigma_{i}^{z} \\sigma_{j}^{z}$ with $J$ an upper triangular matrix satisfying $J_{ij} = 2n_{i}n_{j}$ for $i \\neq j$ and $J_{ii} = n_{i}^{2}$ for $i = j$.\n",
    "\n",
    "\n",
    "- The mixing Hamiltonian $H_{B}$ follows the convention of [1], with an overall plus sign in front.\n",
    "\n",
    "\n",
    "- Since the elements of $S$ are integers, we can restrict the angles $\\gamma_{p} \\in (0, \\pi)$, due to $e^{-i \\pi H_{C}} = \\mathbb{1}$ if $\\sum S$ even or  $e^{-i \\pi H_{C}} = (\\sigma^{z})^{\\otimes N}$ if $\\sum S$ odd.\n",
    "\n",
    "\n",
    "- Since the Ising Hamiltonian $H_{C}$ exhibits a $\\mathbb{Z}_{2}$ symmetry, the value of the angles $\\beta_{p}$ are restricted to $\\beta_{p} \\in (0, \\frac{\\pi}{2})$ [4].\n",
    "\n",
    "\n",
    "Refs.:\n",
    "\n",
    "[1] E. Farhi et al, A Quantum Approximate Optimization Algorithm, arXiv:1411.4028\n",
    "\n",
    "[2] A. Lucas, Ising formulations of many NP problem, Front. Phys., 12 Feb. 2014\n",
    "\n",
    "[3] A. H. Karamlou et al, Analyzing the Performance of Variational Quantum Factoring on a Superconducting Quantum Processor, arXiv:2012.07825\n",
    "\n",
    "[4] L. Zhou et al, Quantum Approximate Optimization Algorithm: Performance, Mechanism, and Implementation on Near-Term Devices, Phys. Rev. X 10, 021067 (2020)\n",
    "\n"
   ]
  },
  {
   "cell_type": "markdown",
   "metadata": {},
   "source": [
    "### *Importing files*"
   ]
  },
  {
   "cell_type": "code",
   "execution_count": 1,
   "metadata": {},
   "outputs": [],
   "source": [
    "from number_partition_qaoa import *"
   ]
  },
  {
   "cell_type": "markdown",
   "metadata": {},
   "source": [
    "# Fleshed out test"
   ]
  },
  {
   "cell_type": "markdown",
   "metadata": {},
   "source": [
    "We start by considering a set S "
   ]
  },
  {
   "cell_type": "code",
   "execution_count": 2,
   "metadata": {},
   "outputs": [],
   "source": [
    "S = [1,2,3]"
   ]
  },
  {
   "cell_type": "markdown",
   "metadata": {},
   "source": [
    "The script contains a function to extract the defining properties of the Hamiltonian $H_{C}$ associated with the set $S$. This corresponds to a list of edges connecting the spins (note that there will be an edge for each pair of spins as the system is all-to-all interacting, i.e. fully connected!), and the upper triangular matrix $J$ containing all interaction strengths"
   ]
  },
  {
   "cell_type": "code",
   "execution_count": 3,
   "metadata": {},
   "outputs": [
    {
     "name": "stdout",
     "output_type": "stream",
     "text": [
      "The edges in the problem are [[0, 1], [0, 2], [1, 2]]\n",
      "The interaction matrix in the problem is [[1, 4, 6], [0, 4, 12], [0, 0, 9]]\n"
     ]
    }
   ],
   "source": [
    "E,J = fully_connected_model(S)\n",
    "\n",
    "print('The edges in the problem are {}'.format(E))\n",
    "print('The interaction matrix in the problem is {}'.format(J))"
   ]
  },
  {
   "cell_type": "markdown",
   "metadata": {},
   "source": [
    "To tackle the full QAOA problem, the script contains a specific class *number_partition_qaoa()*, of which we create an instance using the variables we just created"
   ]
  },
  {
   "cell_type": "code",
   "execution_count": 4,
   "metadata": {},
   "outputs": [],
   "source": [
    "test1 = number_partition_qaoa(S,E,J)"
   ]
  },
  {
   "cell_type": "markdown",
   "metadata": {},
   "source": [
    "Before launching the QAOA, we can do a quick sanity check by calling the *states_and_energies()* method, which returns a dictionary with all the possible spin configurations for this model and their associated energies (we can only do this because the problem size is fairly small!)"
   ]
  },
  {
   "cell_type": "code",
   "execution_count": 5,
   "metadata": {},
   "outputs": [
    {
     "data": {
      "text/plain": [
       "{'000': 36,\n",
       " '001': 0,\n",
       " '010': 4,\n",
       " '011': 16,\n",
       " '100': 16,\n",
       " '101': 4,\n",
       " '110': 0,\n",
       " '111': 36}"
      ]
     },
     "execution_count": 5,
     "metadata": {},
     "output_type": "execute_result"
    }
   ],
   "source": [
    "test1.states_and_energies()"
   ]
  },
  {
   "cell_type": "markdown",
   "metadata": {},
   "source": [
    "As expected these energies satisfy what we expect from the definition of the Ising Hamiltonian $H_{C}$ presented above. \n",
    "\n",
    "We are now ready to start the QAOA process using the *run_qaoa()* method. To do so, we need to define a few hyperparameters that determine how the algorithm is run. First, the number of layers that we want out ansatz to have, i.e. the number of total parameters we want to consider. Second, the number of samples we take when running the circuit during classical optimization and when computing the final answer. Next, the *run_qaoa()* method allows to choose the number of times to run the circuit at each grid point and the size of the grid in the $\\gamma$ and $\\beta$ directions. We can also decide whether we want it to print a list with all the measured states. Lastly, we can choose to use a QPU to find the final solution to the problem once the parateres are optimized.\n",
    "\n",
    "The class has default values for all parameters except for the number of layers. These are: num_samples = 20000, grid_num_samples = 2000, grid_size = [80,20], show_states = False, use_qpu = False. By default, the class is run on the IBM 'qasm-simulator'. It also uses by default the Nelder-Mead algorithm as a classical optimizer."
   ]
  },
  {
   "cell_type": "code",
   "execution_count": 6,
   "metadata": {},
   "outputs": [
    {
     "name": "stdout",
     "output_type": "stream",
     "text": [
      "Grid search has taken 0min 19s     \n",
      "\n",
      "Optimization seed parameters: γ = [0.982], β = [0.707] - E = 1.68\n",
      "\n",
      "\n",
      "Initiating QAOA parameter optimization\n",
      "\n",
      "Optimization took 0min 24s \n",
      "\n",
      "Running QAOA with optimal parameters...\n",
      "\n",
      "Solution:    Energy = 1.0818 \n",
      "\n",
      "Parameters:   γ = 0.964     β = 0.669   (p=1)\n",
      "\n",
      "State: |001>   Probability: 43.64% \n",
      "\n",
      "State: |110>   Probability: 43.42% \n",
      "\n",
      "State: |101>   Probability: 4.79% \n",
      "\n",
      "State: |010>   Probability: 4.58% \n",
      "\n",
      "State: |011>   Probability: 1.45% \n",
      "\n",
      "State: |100>   Probability: 1.45% \n",
      "\n",
      "State: |111>   Probability: 0.35% \n",
      "\n",
      "State: |000>   Probability: 0.33% \n",
      "\n",
      "The final answer is state |001> \n",
      "\n",
      "\n",
      "The set can be split in two sets: \n",
      "\n",
      "S1 = [1, 2]\n",
      "S2 = [3] \n",
      "\n",
      "with minimal difference | ∑ S1 - ∑ S2 | = 0\n"
     ]
    }
   ],
   "source": [
    "# Let's try first the simplest case of a single layer with default values!\n",
    "\n",
    "# Number of layers\n",
    "p = 1\n",
    "\n",
    "# Number of samples when optimizing and computing answer\n",
    "num_samples = 20000\n",
    "\n",
    "#Number of samples for grid search\n",
    "grid_num_samples = 2000\n",
    "\n",
    "# Size of grid\n",
    "grid_size = [80,20]\n",
    "\n",
    "show_states = True\n",
    "use_qpu = False\n",
    "\n",
    "s1, s2, outcomes = test1.run_qaoa(p,num_samples,grid_num_samples,grid_size,show_states,use_qpu)"
   ]
  },
  {
   "cell_type": "markdown",
   "metadata": {},
   "source": [
    "Here we purposedly chose the list of measured states to be displayed. As we can see, our algorithm correctly partitioned the set already using only a single layer and all of the default values. Note that as a result of the $\\mathbb{Z}_{2}$ symmetry of the Hamiltonian, there are two equivalent answers, which here amount to 87% of the results."
   ]
  },
  {
   "cell_type": "markdown",
   "metadata": {},
   "source": [
    "### Using QPU"
   ]
  },
  {
   "cell_type": "markdown",
   "metadata": {},
   "source": [
    "For completeness let us now repeat the same experiment, but using a QPU instead. In that case the number of times we run the circuit is bounded by the capacity of the hardware. Thus, along with a choice of QPU, the script will ask for the number of times we want to run the experiment."
   ]
  },
  {
   "cell_type": "code",
   "execution_count": 8,
   "metadata": {},
   "outputs": [
    {
     "name": "stderr",
     "output_type": "stream",
     "text": [
      "/opt/anaconda3/lib/python3.7/site-packages/qiskit/providers/ibmq/ibmqfactory.py:192: UserWarning: Timestamps in IBMQ backend properties, jobs, and job results are all now in local time instead of UTC.\n",
      "  warnings.warn('Timestamps in IBMQ backend properties, jobs, and job results '\n"
     ]
    },
    {
     "name": "stdout",
     "output_type": "stream",
     "text": [
      "Grid search has taken 0min 25s     \n",
      "\n",
      "Optimization seed parameters: γ = [0.982], β = [0.707] - E = 1.602\n",
      "\n",
      "\n",
      "Initiating QAOA parameter optimization\n",
      "\n",
      "Optimization took 0min 29s \n",
      "\n",
      "Running QAOA with optimal parameters...\n",
      "\n",
      "Insert the name of qpu to be used, e.g. 'ibmq_athens'\n",
      "ibmq_athens\n",
      "\n",
      "Number of shot samples wanted (needs to be smaller than 8192):\n",
      "4096\n",
      "\n",
      "Executing QPU\n",
      "Job id: 605cbf331b50b1644525ca6d\n",
      "Job Status: job has successfully run\n",
      "Solution:    Energy = 5.26953125 \n",
      "\n",
      "Parameters:   γ = 0.965     β = 0.68   (p=1)\n",
      "\n",
      "State: |110>   Probability: 33.2% \n",
      "\n",
      "State: |001>   Probability: 29.71% \n",
      "\n",
      "State: |010>   Probability: 11.57% \n",
      "\n",
      "State: |101>   Probability: 7.71% \n",
      "\n",
      "State: |100>   Probability: 5.83% \n",
      "\n",
      "State: |000>   Probability: 5.05% \n",
      "\n",
      "State: |011>   Probability: 3.71% \n",
      "\n",
      "State: |111>   Probability: 3.2% \n",
      "\n",
      "The final answer is state |110> \n",
      "\n",
      "\n",
      "The set can be split in two sets: \n",
      "\n",
      "S1 = [3]\n",
      "S2 = [1, 2] \n",
      "\n",
      "with minimal difference | ∑ S1 - ∑ S2 | = 0\n"
     ]
    }
   ],
   "source": [
    "# Load personal IBM account\n",
    "IBMQ.load_account()\n",
    "\n",
    "p = 1\n",
    "num_samples = 20000\n",
    "grid_num_samples = 2000\n",
    "grid_size = [80,20]\n",
    "show_states = True\n",
    "use_qpu = True\n",
    "\n",
    "s1, s2, outcomes = test1.run_qaoa(p,num_samples,grid_num_samples,grid_size,show_states,use_qpu)"
   ]
  },
  {
   "cell_type": "markdown",
   "metadata": {},
   "source": [
    "As we can see, using the QPU we can effectively compute the correct answer. Of course, the percentage of success will likely decrease when compared with the simulator as the real hardware is subject to many different sources of noise, which add to the much smaller number of runs we can perform on it. On top that, it is important to keep in mind that the Ising Hamiltonian corresponding the number partition problem is particularly non-friendly to the current IBM hardware. This follows from $H_{C}$ being an all-to-all interacting problem, while no such device contains such great connectivity, which can add a great number of extra gates that need to be performed to swap the qubits around, along with its corresponding noise contribution.\n",
    "\n",
    "The use of QPU in the main script has only been implemented as the last step of the algorithm, due to the sometimes very long waiting times in queue which would make the grid search and the classical optimization process very slow. For reference, if the set we want to partition has more than 5 elements, the script will default to the imbq_16_melbourne chip, as this is the only device which allows for more than 5 qubits."
   ]
  },
  {
   "cell_type": "markdown",
   "metadata": {},
   "source": [
    "## Number of layers"
   ]
  },
  {
   "cell_type": "markdown",
   "metadata": {},
   "source": [
    "We now consider a different example and explore the effect of using more layers. We run the algorithm three times for thr values $p=1,2,3$"
   ]
  },
  {
   "cell_type": "code",
   "execution_count": 12,
   "metadata": {
    "scrolled": false
   },
   "outputs": [
    {
     "name": "stdout",
     "output_type": "stream",
     "text": [
      "Grid search has taken 0min 32s     \n",
      "\n",
      "Optimization seed parameters: γ = [2.16], β = [1.021] - E = 12.38\n",
      "\n",
      "\n",
      "Initiating QAOA parameter optimization\n",
      "\n",
      "Optimization took 0min 35s \n",
      "\n",
      "Running QAOA with optimal parameters...\n",
      "\n",
      "Solution:    Energy = 9.8282 \n",
      "\n",
      "Parameters:   γ = 2.164     β = 1.033   (p=1)\n",
      "\n",
      "State: |1001>   Probability: 36.4% \n",
      "\n",
      "State: |0110>   Probability: 34.94% \n",
      "\n",
      "State: |1010>   Probability: 5.24% \n",
      "\n",
      "State: |0011>   Probability: 4.96% \n",
      "\n",
      "State: |0101>   Probability: 4.76% \n",
      "\n",
      "State: |1100>   Probability: 4.69% \n",
      "\n",
      "State: |0000>   Probability: 1.8% \n",
      "\n",
      "State: |1111>   Probability: 1.72% \n",
      "\n",
      "State: |0001>   Probability: 1.12% \n",
      "\n",
      "State: |1110>   Probability: 1.1% \n",
      "\n",
      "State: |1101>   Probability: 0.73% \n",
      "\n",
      "State: |0100>   Probability: 0.69% \n",
      "\n",
      "State: |0010>   Probability: 0.68% \n",
      "\n",
      "State: |1011>   Probability: 0.62% \n",
      "\n",
      "State: |0111>   Probability: 0.27% \n",
      "\n",
      "State: |1000>   Probability: 0.27% \n",
      "\n",
      "The final answer is state |1001> \n",
      "\n",
      "\n",
      "The set can be split in two sets: \n",
      "\n",
      "S1 = [3, 3]\n",
      "S2 = [1, 5] \n",
      "\n",
      "with minimal difference | ∑ S1 - ∑ S2 | = 0\n"
     ]
    }
   ],
   "source": [
    "# Define set, obtain properties\n",
    "S = [1,3,3,5]\n",
    "E, J = fully_connected_model(S)\n",
    "\n",
    "# Define new instance\n",
    "test2 = number_partition_qaoa(S,E,J)\n",
    "\n",
    "# Number of layers\n",
    "p = 1\n",
    "\n",
    "# Number of samples when optimizing and computing answer\n",
    "num_samples = 20000\n",
    "\n",
    "#Number of samples for grid search\n",
    "grid_num_samples = 2000\n",
    "\n",
    "# Size of grid\n",
    "grid_size = [80,20]\n",
    "\n",
    "show_states = True\n",
    "use_qpu = False\n",
    "\n",
    "s1, s2, outcomes = test2.run_qaoa(p,num_samples,grid_num_samples,grid_size,show_states,use_qpu)"
   ]
  },
  {
   "cell_type": "code",
   "execution_count": 15,
   "metadata": {},
   "outputs": [
    {
     "name": "stdout",
     "output_type": "stream",
     "text": [
      "Grid search has taken 0min 52s     \n",
      "\n",
      "Optimization seed parameters: γ = [1.414, 1.532], β = [0.079, 0.55] - E = 10.618\n",
      "\n",
      "\n",
      "Initiating QAOA parameter optimization\n",
      "\n",
      "Optimization took 1min 2s \n",
      "\n",
      "Running QAOA with optimal parameters...\n",
      "\n",
      "Solution:    Energy = 7.1892 \n",
      "\n",
      "Parameters:   γ = 1.406     β = 0.082   (p=1)\n",
      "              γ = 1.542     β = 0.53   (p=2)\n",
      "\n",
      "State: |0110>   Probability: 35.69% \n",
      "\n",
      "State: |1001>   Probability: 35.61% \n",
      "\n",
      "State: |1010>   Probability: 4.98% \n",
      "\n",
      "State: |0101>   Probability: 4.78% \n",
      "\n",
      "State: |1100>   Probability: 4.74% \n",
      "\n",
      "State: |0011>   Probability: 4.72% \n",
      "\n",
      "State: |1110>   Probability: 1.61% \n",
      "\n",
      "State: |0001>   Probability: 1.52% \n",
      "\n",
      "State: |0010>   Probability: 1.21% \n",
      "\n",
      "State: |1101>   Probability: 1.16% \n",
      "\n",
      "State: |1011>   Probability: 1.05% \n",
      "\n",
      "State: |0100>   Probability: 1.04% \n",
      "\n",
      "State: |0000>   Probability: 0.6% \n",
      "\n",
      "State: |1111>   Probability: 0.54% \n",
      "\n",
      "State: |1000>   Probability: 0.38% \n",
      "\n",
      "State: |0111>   Probability: 0.35% \n",
      "\n",
      "The final answer is state |0110> \n",
      "\n",
      "\n",
      "The set can be split in two sets: \n",
      "\n",
      "S1 = [1, 5]\n",
      "S2 = [3, 3] \n",
      "\n",
      "with minimal difference | ∑ S1 - ∑ S2 | = 0\n"
     ]
    }
   ],
   "source": [
    "# Number of layers\n",
    "p = 2\n",
    "\n",
    "# Number of samples when optimizing and computing answer\n",
    "num_samples = 20000\n",
    "\n",
    "#Number of samples for grid search\n",
    "grid_num_samples = 2000\n",
    "\n",
    "# Size of grid\n",
    "grid_size = [80,20]\n",
    "\n",
    "show_states = True\n",
    "use_qpu = False\n",
    "\n",
    "s1, s2, outcomes = test2.run_qaoa(p,num_samples,grid_num_samples,grid_size,show_states,use_qpu)"
   ]
  },
  {
   "cell_type": "code",
   "execution_count": 14,
   "metadata": {},
   "outputs": [
    {
     "name": "stdout",
     "output_type": "stream",
     "text": [
      "Grid search has taken 1min 23s     \n",
      "\n",
      "Optimization seed parameters: γ = [0.0, 2.16, 1.374], β = [1.021, 0.864, 0.314] - E = 2.738\n",
      "\n",
      "\n",
      "Initiating QAOA parameter optimization\n",
      "\n",
      "Optimization took 1min 44s \n",
      "\n",
      "Running QAOA with optimal parameters...\n",
      "\n",
      "Solution:    Energy = 0.4282 \n",
      "\n",
      "Parameters:   γ = 0.0     β = 1.032   (p=1)\n",
      "              γ = 2.159     β = 0.918   (p=2)\n",
      "              γ = 1.37     β = 0.306   (p=3)\n",
      "\n",
      "State: |0110>   Probability: 49.38% \n",
      "\n",
      "State: |1001>   Probability: 48.38% \n",
      "\n",
      "State: |0101>   Probability: 0.4% \n",
      "\n",
      "State: |1100>   Probability: 0.4% \n",
      "\n",
      "State: |1010>   Probability: 0.34% \n",
      "\n",
      "State: |0011>   Probability: 0.29% \n",
      "\n",
      "State: |1110>   Probability: 0.27% \n",
      "\n",
      "State: |0001>   Probability: 0.24% \n",
      "\n",
      "State: |0100>   Probability: 0.08% \n",
      "\n",
      "State: |1011>   Probability: 0.07% \n",
      "\n",
      "State: |1101>   Probability: 0.05% \n",
      "\n",
      "State: |1111>   Probability: 0.04% \n",
      "\n",
      "State: |0010>   Probability: 0.03% \n",
      "\n",
      "State: |0000>   Probability: 0.02% \n",
      "\n",
      "State: |0111>   Probability: 0.01% \n",
      "\n",
      "State: |1000>   Probability: 0.01% \n",
      "\n",
      "The final answer is state |0110> \n",
      "\n",
      "\n",
      "The set can be split in two sets: \n",
      "\n",
      "S1 = [1, 5]\n",
      "S2 = [3, 3] \n",
      "\n",
      "with minimal difference | ∑ S1 - ∑ S2 | = 0\n"
     ]
    }
   ],
   "source": [
    "# Number of layers\n",
    "p = 3\n",
    "\n",
    "# Number of samples when optimizing and computing answer\n",
    "num_samples = 20000\n",
    "\n",
    "#Number of samples for grid search\n",
    "grid_num_samples = 2000\n",
    "\n",
    "# Size of grid\n",
    "grid_size = [80,20]\n",
    "\n",
    "show_states = True\n",
    "use_qpu = False\n",
    "\n",
    "s1, s2, outcomes = test2.run_qaoa(p,num_samples,grid_num_samples,grid_size,show_states,use_qpu)"
   ]
  },
  {
   "cell_type": "markdown",
   "metadata": {},
   "source": [
    "Let us summarize the what we observe here: in all cases the algorithm is able to partition the set correctly (as expected for a such small set), for $p=1$ the frequency of the correct answer is about 71%, for $p=2$ the frequency barely changes and is again of about 71%, for $p=3$ the frequency of the correct answer is greatly enhanced to roughly 98%. \n",
    "\n",
    "An increase in accuracy is to be expected given that a higher complexity in the ansatz allows for a better expressibility of the ground state. For $p \\rightarrow \\infty$, it is expected that QAOA will perfectly optimize the given problem. Thus, computing power permitting, the more layers we use, the more likely it is we will measure our correct answer with higher frequency.\n",
    "\n",
    "Now, why is it that when increasing from one to two layers we obtain the same result? That can be understood if we think about the way we optimize the angles and the effect of the other hyperparameters. We rely on the capability of grid searching to obtain a good seed for the optimizer. Nevertheless, the quality of our initial guess strongly depends on the grid size and the amount of samples we consider at each grid point. On one hand, the bigger the grid size, the more points we can explore and thus we will be more likely to bump into a region closer to the optimal solution. On the other hand, the more number of samples that we take at each grid point, will allow for a better estimate of the actual expectation value of the energy at that point. Too small of a grid size and we might end up exploring a suboptimal area. Too small of a number of samples at each grid point and we will not be estimating accurately what is the region we are exploring. \n",
    "\n",
    "Thus, in the particular run we considered for $p=2$ we simply happened to obtain the same result as in for $p=1$, but by repeating the run a few times, it is possible to see an increase in the answer frequency. Note that when increasing the number of layers (i.e. the complexity), the grid search is also more prone to errors as we are left with the task of exploring a much larger parameter space. When exploring high values of $p$ it is then advisable to play around with the different hyperparameters to find the optimal result."
   ]
  },
  {
   "cell_type": "markdown",
   "metadata": {},
   "source": [
    "# Other examples"
   ]
  },
  {
   "cell_type": "markdown",
   "metadata": {},
   "source": [
    "Here we show some extra examples in where the algorithm is capable of correctly partitioning the sets. Feel free to add more cells and try your own! :)"
   ]
  },
  {
   "cell_type": "code",
   "execution_count": 19,
   "metadata": {},
   "outputs": [
    {
     "name": "stdout",
     "output_type": "stream",
     "text": [
      "Grid search has taken 4min 34s     \n",
      "\n",
      "Optimization seed parameters: γ = [2.042, 2.081, 0.393], β = [0.733, 0.471, 0.524] - E = 77.2728\n",
      "\n",
      "\n",
      "Initiating QAOA parameter optimization\n",
      "\n",
      "Optimization took 1min 57s \n",
      "\n",
      "Running QAOA with optimal parameters...\n",
      "\n",
      "Solution:    Energy = 73.2408 \n",
      "\n",
      "Parameters:   γ = 2.031     β = 0.755   (p=1)\n",
      "              γ = 2.084     β = 0.472   (p=2)\n",
      "              γ = 0.392     β = 0.536   (p=3)\n",
      "\n",
      "State: |11100>   Probability: 19.55% \n",
      "\n",
      "State: |00011>   Probability: 18.3% \n",
      "\n",
      "State: |00110>   Probability: 6.3% \n",
      "\n",
      "State: |11001>   Probability: 6.08% \n",
      "\n",
      "State: |11010>   Probability: 5.42% \n",
      "\n",
      "State: |00101>   Probability: 5.38% \n",
      "\n",
      "State: |10101>   Probability: 3.26% \n",
      "\n",
      "State: |01010>   Probability: 3.24% \n",
      "\n",
      "State: |11000>   Probability: 2.9% \n",
      "\n",
      "State: |00111>   Probability: 2.71% \n",
      "\n",
      "State: |00010>   Probability: 2.15% \n",
      "\n",
      "State: |11101>   Probability: 2.05% \n",
      "\n",
      "State: |01011>   Probability: 1.97% \n",
      "\n",
      "State: |10100>   Probability: 1.89% \n",
      "\n",
      "State: |10110>   Probability: 1.85% \n",
      "\n",
      "State: |01001>   Probability: 1.79% \n",
      "\n",
      "State: |01101>   Probability: 1.75% \n",
      "\n",
      "State: |00001>   Probability: 1.64% \n",
      "\n",
      "State: |11110>   Probability: 1.59% \n",
      "\n",
      "State: |10010>   Probability: 1.49% \n",
      "\n",
      "State: |10000>   Probability: 1.14% \n",
      "\n",
      "State: |01111>   Probability: 1.1% \n",
      "\n",
      "State: |10111>   Probability: 1.05% \n",
      "\n",
      "State: |11011>   Probability: 0.99% \n",
      "\n",
      "State: |01000>   Probability: 0.9% \n",
      "\n",
      "State: |00100>   Probability: 0.89% \n",
      "\n",
      "State: |11111>   Probability: 0.66% \n",
      "\n",
      "State: |00000>   Probability: 0.6% \n",
      "\n",
      "State: |10011>   Probability: 0.55% \n",
      "\n",
      "State: |01100>   Probability: 0.5% \n",
      "\n",
      "State: |01110>   Probability: 0.16% \n",
      "\n",
      "State: |10001>   Probability: 0.15% \n",
      "\n",
      "The final answer is state |11100> \n",
      "\n",
      "\n",
      "The set can be split in two sets: \n",
      "\n",
      "S1 = [7, 8]\n",
      "S2 = [4, 5, 6] \n",
      "\n",
      "with minimal difference | ∑ S1 - ∑ S2 | = 0\n"
     ]
    }
   ],
   "source": [
    "# Define set, obtain properties\n",
    "S = [4,5,6,7,8]\n",
    "E,J = fully_connected_model(S)\n",
    "\n",
    "# Define new instance\n",
    "test3 = number_partition_qaoa(S,E,J)\n",
    "\n",
    "# Number of layers\n",
    "p = 3\n",
    "\n",
    "# Number of samples\n",
    "num_samples = 20000\n",
    "\n",
    "# Grid search properties\n",
    "grid_num_samples = 5000\n",
    "grid_size = [80,30]\n",
    "\n",
    "# Print states\n",
    "show_states = True\n",
    "\n",
    "# Use classical simulator\n",
    "use_qpu = False\n",
    "\n",
    "s1, s2, outcomes = test3.run_qaoa(p,num_samples,grid_num_samples,grid_size,show_states,use_qpu)"
   ]
  },
  {
   "cell_type": "code",
   "execution_count": 20,
   "metadata": {},
   "outputs": [
    {
     "name": "stdout",
     "output_type": "stream",
     "text": [
      "Grid search has taken 3min 34s     \n",
      "\n",
      "Optimization seed parameters: γ = [0.236, 1.139], β = [0.314, 0.838] - E = 44.3328\n",
      "\n",
      "\n",
      "Initiating QAOA parameter optimization\n",
      "\n",
      "Optimization took 1min 36s \n",
      "\n",
      "Running QAOA with optimal parameters...\n",
      "\n",
      "Solution:    Energy = 36.9152 \n",
      "\n",
      "Parameters:   γ = 0.238     β = 0.323   (p=1)\n",
      "              γ = 1.135     β = 0.847   (p=2)\n",
      "\n",
      "The final answer is state |101001> \n",
      "\n",
      "\n",
      "The set can be split in two sets: \n",
      "\n",
      "S1 = [2, 4, 5]\n",
      "S2 = [1, 3, 6] \n",
      "\n",
      "with minimal difference | ∑ S1 - ∑ S2 | = 1\n"
     ]
    }
   ],
   "source": [
    "# Define set, obtain properties\n",
    "S = [1,2,3,4,5,6]\n",
    "E,J = fully_connected_model(S)\n",
    "\n",
    "# Define new instance\n",
    "test4 = number_partition_qaoa(S,E,J)\n",
    "\n",
    "# Number of layers\n",
    "p = 2\n",
    "\n",
    "# Number of samples\n",
    "num_samples = 20000\n",
    "\n",
    "# Grid search properties\n",
    "grid_num_samples = 5000\n",
    "grid_size = [80,30]\n",
    "\n",
    "# Do not print states\n",
    "show_states = False\n",
    "\n",
    "# Use classical simulator\n",
    "use_qpu = False\n",
    "\n",
    "s1, s2, outcomes = test4.run_qaoa(p,num_samples,grid_num_samples,grid_size,show_states,use_qpu)"
   ]
  },
  {
   "cell_type": "code",
   "execution_count": 38,
   "metadata": {},
   "outputs": [
    {
     "name": "stdout",
     "output_type": "stream",
     "text": [
      "Grid search has taken 8min 14s     \n",
      "\n",
      "Optimization seed parameters: γ = [2.648, 0.404], β = [1.1, 0.628] - E = 455.8936\n",
      "\n",
      "\n",
      "Initiating QAOA parameter optimization\n",
      "\n",
      "Optimization took 2min 0s \n",
      "\n",
      "Running QAOA with optimal parameters...\n",
      "\n",
      "Solution:    Energy = 440.7184 \n",
      "\n",
      "Parameters:   γ = 2.648     β = 1.153   (p=1)\n",
      "              γ = 0.404     β = 0.629   (p=2)\n",
      "\n",
      "The final answer is state |01101001> \n",
      "\n",
      "\n",
      "The set can be split in two sets: \n",
      "\n",
      "S1 = [1, 7, 11, 13]\n",
      "S2 = [3, 5, 9, 15] \n",
      "\n",
      "with minimal difference | ∑ S1 - ∑ S2 | = 0\n"
     ]
    }
   ],
   "source": [
    "# Define set, obtain properties\n",
    "S = [1,3,5,7,9,11,13,15]\n",
    "E,J = fully_connected_model(S)\n",
    "\n",
    "# Define new instance\n",
    "test5 = number_partition_qaoa(S,E,J)\n",
    "\n",
    "# Number of layers\n",
    "p = 2\n",
    "\n",
    "# Number of samples\n",
    "num_samples = 20000\n",
    "\n",
    "# Grid search properties\n",
    "grid_num_samples = 15000\n",
    "grid_size = [70,30]\n",
    "\n",
    "# Do not print states\n",
    "show_states = False\n",
    "\n",
    "# Use classical simulator\n",
    "use_qpu = False\n",
    "\n",
    "s1, s2, outcomes = test5.run_qaoa(p,num_samples,grid_num_samples,grid_size,show_states,use_qpu)"
   ]
  },
  {
   "cell_type": "markdown",
   "metadata": {},
   "source": [
    "In these examples we have had to tinker with the hyperparameters in a trial and error manner to get the correct answer consistently. As expected, a better grid search comes at a high cost in terms of computing time. In the following, we outline a few points that could help improve the performance of the algorithm."
   ]
  },
  {
   "cell_type": "markdown",
   "metadata": {},
   "source": [
    "# Further comments"
   ]
  },
  {
   "cell_type": "markdown",
   "metadata": {},
   "source": [
    "In order to further assess the quality of our QAOA solver, we have externally run 20 simulations for five different set sizes (i.e. number of elements) ranging from 3 to 7. In particular, $S_{1} = {1,2,3}$, $S_{2} = {1,3,3,5}$, $S_{3} = {4,5,6,7,8}$, $S_{4} = {2,3,4,5,6,7}$ and $S_{5} = {1,3,5,7,9,11,13}$. All of these have non-degenerate solutions. These were all run in IBM's Qasm Simulator, using num_samples = 20000, grid_num_samples = 2000 and a grid_size = [70,30]."
   ]
  },
  {
   "cell_type": "code",
   "execution_count": 20,
   "metadata": {},
   "outputs": [],
   "source": [
    "# Import the obtained data\n",
    "\n",
    "import csv\n",
    "import numpy as np\n",
    "%matplotlib inline \n",
    "from matplotlib import pyplot as plt\n",
    "\n",
    "with open('avg_result.csv', newline='') as f:\n",
    "    reader = csv.reader(f)\n",
    "    avg_result = list(reader)\n",
    "\n",
    "with open('error_result.csv', newline='') as f:\n",
    "    reader = csv.reader(f)\n",
    "    error_result = list(reader)\n",
    "    \n",
    "with open('per_result.csv', newline='') as f:\n",
    "    reader = csv.reader(f)\n",
    "    per_result = list(reader)\n",
    "    \n",
    "    \n",
    "for i in range(len(avg_result)):\n",
    "    for j in range(len(avg_result[i])):\n",
    "        avg_result[i][j] = float(avg_result[i][j])\n",
    "        error_result[i][j] = float(error_result[i][j])\n",
    "        \n",
    "\n",
    "for i in range(len(per_result)):\n",
    "    for j in range(len(per_result[i])):\n",
    "        per_result[i][j] = float(per_result[i][j])"
   ]
  },
  {
   "cell_type": "markdown",
   "metadata": {},
   "source": [
    "Below we show the average percentage of times the correct answer was obtained for $p = (1,2,3)$."
   ]
  },
  {
   "cell_type": "code",
   "execution_count": 12,
   "metadata": {},
   "outputs": [
    {
     "data": {
      "image/png": "[encoded data removed]",
      "text/plain": [
       "<Figure size 1080x576 with 1 Axes>"
      ]
     },
     "metadata": {
      "needs_background": "light"
     },
     "output_type": "display_data"
    }
   ],
   "source": [
    "N = 5\n",
    "\n",
    "p1 = [avg_result[j][0] for j in range(N)]\n",
    "err1 = [error_result[j][0] for j in range(N)]\n",
    "\n",
    "p2 = [avg_result[j][1] for j in range(N)]\n",
    "err2 = [error_result[j][1] for j in range(N)]\n",
    "\n",
    "p3 = [avg_result[j][2] for j in range(N)]\n",
    "err3 = [error_result[j][2] for j in range(N)]\n",
    "\n",
    "width = 0.25\n",
    "ind = np.arange(N)\n",
    "\n",
    "fig, ax = plt.subplots(figsize = [15,8])\n",
    "\n",
    "layer1 = ax.bar(ind, p1, width, color='#e07a5f',yerr=err1,ecolor = 'k', capsize = 5)\n",
    "layer2 = ax.bar(ind+width, p2, width, color='#3d405b',yerr=err2,ecolor = 'k', capsize = 5)\n",
    "layer3 = ax.bar(ind+2*width, p3, width, color='#81b29a',yerr=err3,ecolor = 'k', capsize = 5)\n",
    "\n",
    "\n",
    "ax.set_ylabel('Correct outcome frequency (%)', fontsize = 15)\n",
    "ax.set_title('Average over 20 QAOA runs', fontsize = 15)\n",
    "ax.set_xticks(ind + width)\n",
    "ax.set_xticklabels(('|S|=3', '|S|=4', '|S|=5', '|S|=6', '|S|=7'),rotation = 30, fontsize = 15)\n",
    "ax.set_ylim(ymin=0)\n",
    "\n",
    "ax.legend((layer1[0], layer2[0],layer3[0]), ('p=1', 'p=2','p=3'),fontsize = 'xx-large')\n",
    "\n",
    "plt.show()"
   ]
  },
  {
   "cell_type": "markdown",
   "metadata": {},
   "source": [
    "As expected, the number of times the correct answer is measured decreases with system size. On one hand the increasing amount of available states unavoidably leads to the correct state being measured in lower amounts. On the other hand, as the system grows in size the energy landscape becomes increasingly complex. Thus, finding the optimal seeds for the QAOA angles and further optimizing angles becomes a more complicated task. It is then to be expected for our code to struggle more for larger sizes. Of course, in the end, what matters is not necessarily what the overall frequency outcome of the correct answer is, but how the frequency ranks with respect to the other set of states.\n",
    "\n",
    "Below, we address this by displaying the percentage of times the sets were correctly partitioned, i.e. whether the correct answer ranked among the top 5 most measured states in the simulation."
   ]
  },
  {
   "cell_type": "code",
   "execution_count": 19,
   "metadata": {},
   "outputs": [
    {
     "data": {
      "image/png": "[encoded data removed]",
      "text/plain": [
       "<Figure size 1080x576 with 1 Axes>"
      ]
     },
     "metadata": {
      "needs_background": "light"
     },
     "output_type": "display_data"
    }
   ],
   "source": [
    "N = 5\n",
    "\n",
    "per1 = per_result[0]\n",
    "per2 = per_result[1]\n",
    "per3 = per_result[2]\n",
    "\n",
    "width = 0.25\n",
    "ind = np.arange(N)\n",
    "\n",
    "fig, ax = plt.subplots(figsize = [15,8])\n",
    "\n",
    "layer1 = ax.bar(ind, per1, width, color='#e07a5f')\n",
    "layer2 = ax.bar(ind+width, per2, width, color='#3d405b')\n",
    "layer3 = ax.bar(ind+2*width, per3, width, color='#81b29a')\n",
    "\n",
    "ax.set_ylabel('Times set was correctly partitioned (%)', fontsize = 15)\n",
    "ax.set_title('Result from 20 QAOA runs', fontsize = 15)\n",
    "ax.set_xticks(ind + width)\n",
    "ax.set_xticklabels(('|S|=3', '|S|=4', '|S|=5', '|S|=6', '|S|=7'), rotation = 30, fontsize = 15)\n",
    "ax.set_ylim(ymin=0)\n",
    "ax.legend((layer1[0], layer2[0],layer3[0]), ('p=1', 'p=2','p=3'),fontsize = 'xx-large')\n",
    "\n",
    "plt.show()"
   ]
  },
  {
   "cell_type": "markdown",
   "metadata": {},
   "source": [
    "For smaller sizes we find that the set was always correctly partitioned, but it becomes a trickier task for larger sizes.\n",
    "\n",
    "Specifically, for the last three cases on the right, we fail to see a consistent improvement for an increasing amount of QAOA layers. While for higher $p$ the ansatz becomes more expressive and capable of reproducing the real ground state, it comes at the *high* price of having to search and optimize a larger parameter space for the QAOA angles. Indeed, the grid search method approach to find the best seed for the classical optimization yields a highly varying set of results for each different value of $p$. This means that the grid search is not capable of finding an optimal seed consistently, due to number of grid points (in addition to the intrisic stochastic nature of the simulations) simply being too few. One could use a finer grid, thus expecting an improvement, but of course that comes at a higher and higher computational cost.\n",
    "\n",
    "Next, we outline a few possible solutions to this issue and mention other interesting approaches to further ehance the quality of our solver."
   ]
  },
  {
   "cell_type": "markdown",
   "metadata": {},
   "source": [
    "# Outlook"
   ]
  },
  {
   "cell_type": "markdown",
   "metadata": {},
   "source": [
    "There are other interesting avenues that have not been explored here which could contribute to an improved performance of our algorithm:\n",
    "\n",
    "- Fixing one spin in the system to a specific value would reduce the the problem size by one and would break the $\\mathbb{Z}_{2}$ symmetry thus lifting the state degeneracy. The Hamiltonian effectively becomes an all-to-all interacting system of reduced size in the presence of an external field. Note that this requires to expand the parameter search in the $\\beta$ direction. \n",
    "\n",
    "\n",
    "- It would be interesting to explore if there are improvements from choosing grid points at random instead of using a regular grid. Both that case and the current approach could benefit from fast grid searches accompanied by some averaging process over them to obtain an optimal seed. Additionally, in the spirit of the type of parameters found in [4], it could also prove useful to only explore a small range around the parameters found in the previous layer instead of searching the entire parameter range at each layer. For specific problems it could also be insightful to show contour plots of the landscape at each layer to gain further understanding on where the optimal solutions might be located [3].\n",
    "\n",
    "\n",
    "- Implementing different approaches to create initial seeds for the classical optimization.  Both the INTERP and FOURIER heuristic approaches in [4] could lead to more consistent and overall better results. "
   ]
  }
 ],
 "metadata": {
  "kernelspec": {
   "display_name": "Python 3",
   "language": "python",
   "name": "python3"
  },
  "language_info": {
   "codemirror_mode": {
    "name": "ipython",
    "version": 3
   },
   "file_extension": ".py",
   "mimetype": "text/x-python",
   "name": "python",
   "nbconvert_exporter": "python",
   "pygments_lexer": "ipython3",
   "version": "3.7.6"
  }
 },
 "nbformat": 4,
 "nbformat_minor": 4
}
