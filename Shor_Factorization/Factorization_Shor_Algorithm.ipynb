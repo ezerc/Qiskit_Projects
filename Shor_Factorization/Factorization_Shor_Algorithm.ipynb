{
 "cells": [
  {
   "cell_type": "markdown",
   "metadata": {},
   "source": [
    "# Factorization with Shor's Algorithm"
   ]
  },
  {
   "cell_type": "markdown",
   "metadata": {},
   "source": [
    "This notebook contains a factorization function which efficiently implements Shor's Algorithm. This is an implementation presented in [1], which requires the use of $2n+3$ qubits. Given a specific number $N$ to factorize, the program performs the following steps:\n",
    "\n",
    "1. Check if $N$ is even. If so, return factor of 2, and offer to factorize $N/2$.\n",
    "\n",
    "   \n",
    "2. Classically check if $N$ is a perfect power. If so, return factors.\n",
    "\n",
    "   \n",
    "3. If $N$ does not fall into the previous categories, ask for an integer $a$ (this number needs to satisfy $gcd(a,N)=1$! ) to be used in the order finding quantum algorithm to obtain the period $r$ satisying $a^{r} mod N=1$ [2].\n",
    "\n",
    "    *(Modular exponentiation requires $2n+2$ qubits, the extra qubit is used to perform Quantum Phase Estimation using a Sequential QFT. An extra notebook containing details of how Sequential QFT works can be found in the main folder.)*\n",
    "\n",
    "   \n",
    "4. If $r$ is even, use $gcd(a^{r/2}-1,N)$ and $gcd(a^{r/2}+1,N)$ as guesses for factors of $N$ [2]. If $r$ is odd, go back to previous step and choose a different value for $a$.\n",
    "\n",
    "\n",
    "By default, the quantum algorithm runs in Qiskit's 'qasm_simulator', which can simulate up to 32 qubits, using 2048 trajectories. Interesting numbers to try out are 15 or 21, running higher numbers is at your own risk depending on the power of your local computer :).\n",
    "\n",
    "The second cell in the notebook contains all the functions needed for pre-processing, performing efficient modular exponentiation, generating and executing the quantum circuit and post-processing the results. These are shown below for anyone who is curious to see the backbone of the process.\n",
    "\n",
    "\n",
    "Refs.:\n",
    "\n",
    "[1] Stephane Beauregard, *Circuit for Shor's algorithm using 2n+3 qubits* - arXiv:quant-ph/0205095\n",
    "\n",
    "[2] Further details can be found in Qiskit tutorial notes: https://qiskit.org/textbook/ch-algorithms/shor.html\n"
   ]
  },
  {
   "cell_type": "markdown",
   "metadata": {},
   "source": [
    "### *Importing files*"
   ]
  },
  {
   "cell_type": "code",
   "execution_count": 1,
   "metadata": {},
   "outputs": [],
   "source": [
    "from factorization_shor_algorithm import *"
   ]
  },
  {
   "cell_type": "markdown",
   "metadata": {},
   "source": [
    "# Try to factor a number"
   ]
  },
  {
   "cell_type": "code",
   "execution_count": 2,
   "metadata": {},
   "outputs": [
    {
     "name": "stdout",
     "output_type": "stream",
     "text": [
      "Not a trivial case, Shor's algorithm will be used.\n",
      "\n",
      "Provide a seed value, between 2 and 15 and such that gcd(N,value)=1, for period finding:\n",
      "4\n",
      " \n",
      "Shor circuit execution started\n",
      "Execution finished\n",
      " \n",
      "The period guess is 2\n",
      " \n",
      "Estimated factors of 15: 3 and 5\n"
     ]
    }
   ],
   "source": [
    "# Number to factorize\n",
    "N = 15\n",
    "\n",
    "factorize(N)"
   ]
  },
  {
   "cell_type": "markdown",
   "metadata": {},
   "source": [
    "Here we successfully found the non-trivial factors of 15!"
   ]
  }
 ],
 "metadata": {
  "kernelspec": {
   "display_name": "Python 3",
   "language": "python",
   "name": "python3"
  },
  "language_info": {
   "codemirror_mode": {
    "name": "ipython",
    "version": 3
   },
   "file_extension": ".py",
   "mimetype": "text/x-python",
   "name": "python",
   "nbconvert_exporter": "python",
   "pygments_lexer": "ipython3",
   "version": "3.7.6"
  }
 },
 "nbformat": 4,
 "nbformat_minor": 4
}
